{
  "nbformat": 4,
  "nbformat_minor": 0,
  "metadata": {
    "colab": {
      "provenance": [],
      "authorship_tag": "ABX9TyOwpbRsxEt7OCbV25/4QuUH",
      "include_colab_link": true
    },
    "kernelspec": {
      "name": "python3",
      "display_name": "Python 3"
    },
    "language_info": {
      "name": "python"
    }
  },
  "cells": [
    {
      "cell_type": "markdown",
      "metadata": {
        "id": "view-in-github",
        "colab_type": "text"
      },
      "source": [
        "<a href=\"https://colab.research.google.com/github/CrisvinK/BMEN6367_Homework/blob/main/HW4.ipynb\" target=\"_parent\"><img src=\"https://colab.research.google.com/assets/colab-badge.svg\" alt=\"Open In Colab\"/></a>"
      ]
    },
    {
      "cell_type": "markdown",
      "source": [
        "# BMEN 6367 HW4\n",
        "Crisvin Kadambathil (CSK180005)"
      ],
      "metadata": {
        "id": "dSGIdy3txwd4"
      }
    },
    {
      "cell_type": "code",
      "execution_count": null,
      "metadata": {
        "id": "CuipwVEivRrh"
      },
      "outputs": [],
      "source": [
        "# Import Necessary Libraries\n",
        "from google.colab import drive\n",
        "import os\n",
        "import pandas\n",
        "import numpy as np\n",
        "from sklearn.model_selection import train_test_split\n",
        "from sklearn.svm import SVC\n",
        "from sklearn.metrics import classification_report, confusion_matrix\n",
        "import seaborn as sns; sns.set()\n",
        "import matplotlib.pyplot as plt"
      ]
    },
    {
      "cell_type": "code",
      "source": [
        "# Mount Google Drive to Colab\n",
        "\n",
        "drive.mount('/content/drive')"
      ],
      "metadata": {
        "colab": {
          "base_uri": "https://localhost:8080/"
        },
        "id": "zYjz0OUnyDQa",
        "outputId": "f49d53ab-84ea-4588-b5bd-77c8daccde90"
      },
      "execution_count": null,
      "outputs": [
        {
          "output_type": "stream",
          "name": "stdout",
          "text": [
            "Drive already mounted at /content/drive; to attempt to forcibly remount, call drive.mount(\"/content/drive\", force_remount=True).\n"
          ]
        }
      ]
    },
    {
      "cell_type": "code",
      "source": [
        "# Change the file working directory\n",
        "\n",
        "os.chdir('/content/drive/My Drive/Colab Notebooks/Datasets')"
      ],
      "metadata": {
        "id": "LS-2H2kTypN_"
      },
      "execution_count": null,
      "outputs": []
    },
    {
      "cell_type": "code",
      "source": [
        "# Import alzheimer dataset and arrange by label and features\n",
        "\n",
        "all_data = np.array(pandas.read_csv('Alzheimers_Data.csv'))\n",
        "\n",
        "# labels: 0 = Nondemented, 1 = Demented, 2 = Converted\n",
        "\n",
        "y = all_data[:, 0]\n",
        "\n",
        "# features: column |  feature\n",
        "#           -----------------------------------------------------\n",
        "#           0      |  Age\n",
        "#           1      |  EDUC (Years)\n",
        "#           2      |  SES (Socioeconomic Status)\n",
        "#           3      |  MMSE (Mini Mental State Examination)\n",
        "#           4      |  CDR (Clinical Dementia Rating)\n",
        "#           5      |  eTIV (Estimated Total Intracranial Volume)\n",
        "#           6      |  nWBV (Normalize Whole Brain Volume)\n",
        "#           7      |  ASF (Atlas Scaling Factor)\n",
        "\n",
        "X = all_data[:, 1:9]"
      ],
      "metadata": {
        "id": "0Ffu6ZjVzHjZ"
      },
      "execution_count": null,
      "outputs": []
    },
    {
      "cell_type": "code",
      "source": [
        "# Split the data into training and testing groups\n",
        "\n",
        "Xtrain, Xtest, ytrain, ytest = train_test_split(X, y, random_state=20)\n",
        "\n",
        "print('Training Set Size = %i' % np.shape(Xtrain)[0])\n",
        "print('Test Set Size = %i' % np.shape(Xtest)[0])"
      ],
      "metadata": {
        "colab": {
          "base_uri": "https://localhost:8080/"
        },
        "id": "mdqWtvQXz5EL",
        "outputId": "083ea9b7-805c-4cde-ba26-1a2388c92ffe"
      },
      "execution_count": null,
      "outputs": [
        {
          "output_type": "stream",
          "name": "stdout",
          "text": [
            "Training Set Size = 265\n",
            "Test Set Size = 89\n"
          ]
        }
      ]
    },
    {
      "cell_type": "code",
      "source": [
        "# Create model and fit to existing data\n",
        "\n",
        "# Model 1 uses a radial bias function kernal\n",
        "\n",
        "model_1 = SVC(kernel='rbf', C=100, gamma=0.1)\n",
        "model_1.fit(Xtrain, ytrain)\n",
        "\n",
        "# Predict labels based on test set\n",
        "\n",
        "yfit = model_1.predict(Xtest)"
      ],
      "metadata": {
        "id": "gY6_j9ko8JNm"
      },
      "execution_count": 22,
      "outputs": []
    },
    {
      "cell_type": "code",
      "source": [
        "# Display classification report\n",
        "\n",
        "label_names = ['Nondemended', 'Demented', 'Converted']\n",
        "print(classification_report(ytest, yfit, target_names=label_names))"
      ],
      "metadata": {
        "colab": {
          "base_uri": "https://localhost:8080/"
        },
        "id": "K-MVVX78_xsu",
        "outputId": "1ab38f68-6566-4944-87b1-373647881d43"
      },
      "execution_count": 23,
      "outputs": [
        {
          "output_type": "stream",
          "name": "stdout",
          "text": [
            "              precision    recall  f1-score   support\n",
            "\n",
            " Nondemended       0.62      1.00      0.76        48\n",
            "    Demented       0.90      0.28      0.43        32\n",
            "   Converted       1.00      0.11      0.20         9\n",
            "\n",
            "    accuracy                           0.65        89\n",
            "   macro avg       0.84      0.46      0.46        89\n",
            "weighted avg       0.76      0.65      0.59        89\n",
            "\n"
          ]
        }
      ]
    },
    {
      "cell_type": "code",
      "source": [
        "# Display confusion matrix\n",
        "\n",
        "mat = confusion_matrix(ytest, yfit)\n",
        "sns.heatmap(mat.T, square=True, annot=True, fmt='d', cbar=False,\n",
        "            xticklabels=label_names,\n",
        "            yticklabels=label_names)\n",
        "plt.xlabel('true label')\n",
        "plt.ylabel('predicted label')"
      ],
      "metadata": {
        "colab": {
          "base_uri": "https://localhost:8080/",
          "height": 475
        },
        "id": "EP3Z6XbyFU1b",
        "outputId": "fad002ce-6c65-423b-bda9-88ab63ac3189"
      },
      "execution_count": 24,
      "outputs": [
        {
          "output_type": "execute_result",
          "data": {
            "text/plain": [
              "Text(109.44999999999997, 0.5, 'predicted label')"
            ]
          },
          "metadata": {},
          "execution_count": 24
        },
        {
          "output_type": "display_data",
          "data": {
            "text/plain": [
              "<Figure size 640x480 with 1 Axes>"
            ],
            "image/png": "[encoded data removed]"
          },
          "metadata": {}
        }
      ]
    },
    {
      "cell_type": "code",
      "source": [],
      "metadata": {
        "id": "_K6PNUcLH8-5"
      },
      "execution_count": null,
      "outputs": []
    }
  ]
}